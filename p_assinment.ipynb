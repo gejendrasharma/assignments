{
 "cells": [
  {
   "cell_type": "markdown",
   "metadata": {},
   "source": [
    "Q1>>Discuss string slicing and provide examples."
   ]
  },
  {
   "cell_type": "markdown",
   "metadata": {},
   "source": [
    "Ans>>String slicing>>String slicing in python allows you to extract a portion of string by specifying a start and end index.It follows the format string[start:end],whrer start is the index where slicing begins and end is the index where it ends. "
   ]
  },
  {
   "cell_type": "code",
   "execution_count": 1,
   "metadata": {},
   "outputs": [
    {
     "name": "stdout",
     "output_type": "stream",
     "text": [
      "endr\n"
     ]
    }
   ],
   "source": [
    "name=\"gajendra sharma\"\n",
    "a=name[3:7]\n",
    "print(a)"
   ]
  },
  {
   "cell_type": "markdown",
   "metadata": {},
   "source": [
    "Q2>>Explain the key features of lists in Python."
   ]
  },
  {
   "cell_type": "markdown",
   "metadata": {},
   "source": [
    "1.You can use python list to store hetrogenous data.\n",
    "2.Lists are dynamic.\n",
    "3.Lists are mutable.\n",
    "4.An index is used to traverse a list.\n",
    "5.Lists are order collection of data.\n",
    "6.Lists used zero based indexing."
   ]
  },
  {
   "cell_type": "markdown",
   "metadata": {},
   "source": [
    "Q3>>Describe how to access, modify, and delete elements in a list with examples."
   ]
  },
  {
   "cell_type": "code",
   "execution_count": 9,
   "metadata": {},
   "outputs": [
    {
     "name": "stdout",
     "output_type": "stream",
     "text": [
      "prem\n"
     ]
    }
   ],
   "source": [
    "#how to access>>The syntax for accessing the elements of a list is the same as the syntax of accessing the character of a string.we use the index operator([])\n",
    "list1=[\"krish\",\"ajay\",\"prem\",\"rahul\"]\n",
    "a=list1[2]\n",
    "print(a)"
   ]
  },
  {
   "cell_type": "code",
   "execution_count": null,
   "metadata": {},
   "outputs": [
    {
     "name": "stdout",
     "output_type": "stream",
     "text": [
      "['krish', 'rahul', 'ajay', 'mohit']\n"
     ]
    }
   ],
   "source": [
    "#how to modify>>there is many function for modify any list and on of them append() function we used here\n",
    "list1=[\"krish\",\"rahul\",\"ajay\"]\n",
    "list1.append(\"mohit\")\n",
    "print(list1)"
   ]
  },
  {
   "cell_type": "code",
   "execution_count": null,
   "metadata": {},
   "outputs": [
    {
     "name": "stdout",
     "output_type": "stream",
     "text": [
      "['krish', 'gajendra', 'rahul']\n"
     ]
    }
   ],
   "source": [
    "#how to delete>>In this also we have many function to delete the elements like clear(),remove(),pop().\n",
    "list2=[\"krish\",\"gajendra\",\"rahul\",\"ajay\"]\n",
    "list2.pop()\n",
    "print(list2)"
   ]
  },
  {
   "cell_type": "markdown",
   "metadata": {},
   "source": [
    "Q4>>Compare and contrast tuples and lists with examples.\n"
   ]
  },
  {
   "cell_type": "code",
   "execution_count": 7,
   "metadata": {},
   "outputs": [
    {
     "name": "stdout",
     "output_type": "stream",
     "text": [
      "['india', 'pakistan', 'usa', 'dubai']\n"
     ]
    }
   ],
   "source": [
    "#List>>\n",
    "#it is mutable\n",
    "#the list is better for performing operations,such as insertion and deletion\n",
    "#list consume more memory\n",
    "#list has several built_in methods.\n",
    "#Ex\n",
    "list1=[\"india\",\"pakistan\",\"usa\",\"dubai\"]\n",
    "print(list1)"
   ]
  },
  {
   "cell_type": "code",
   "execution_count": 8,
   "metadata": {},
   "outputs": [
    {
     "name": "stdout",
     "output_type": "stream",
     "text": [
      "('krish', 'rahul', 'ajay', 'muskan')\n"
     ]
    }
   ],
   "source": [
    "#Tuples>>\n",
    "#Tuples are immutable\n",
    "#A Tuple data type is appropriate for accessing the elements\n",
    "#Tuple comsumes less memory as compare to the list\n",
    "#Tuple does not have many built_in methods\n",
    "#Ex\n",
    "tup=(\"krish\",\"rahul\",\"ajay\",\"muskan\")\n",
    "print(tup)"
   ]
  },
  {
   "cell_type": "markdown",
   "metadata": {},
   "source": [
    "Q5>>Describe the key features of sets and provide examples of their use.\n"
   ]
  },
  {
   "cell_type": "code",
   "execution_count": 10,
   "metadata": {},
   "outputs": [
    {
     "name": "stdout",
     "output_type": "stream",
     "text": [
      "{1, 2, 3, 4, 5, 'prem'}\n"
     ]
    }
   ],
   "source": [
    "#sets are unique and unordered collection of data.\n",
    "sets={1,2,3,4,5,1,\"prem\",\"prem\"}\n",
    "print(sets)"
   ]
  },
  {
   "cell_type": "code",
   "execution_count": 13,
   "metadata": {},
   "outputs": [
    {
     "ename": "AttributeError",
     "evalue": "'set' object has no attribute 'appened'",
     "output_type": "error",
     "traceback": [
      "\u001b[1;31m---------------------------------------------------------------------------\u001b[0m",
      "\u001b[1;31mAttributeError\u001b[0m                            Traceback (most recent call last)",
      "Cell \u001b[1;32mIn[13], line 3\u001b[0m\n\u001b[0;32m      1\u001b[0m \u001b[38;5;66;03m#sets are immutable tha mean sets are unchangeable.\u001b[39;00m\n\u001b[0;32m      2\u001b[0m sets\u001b[38;5;241m=\u001b[39m{\u001b[38;5;241m1\u001b[39m,\u001b[38;5;241m2\u001b[39m,\u001b[38;5;241m3\u001b[39m,\u001b[38;5;241m4\u001b[39m,\u001b[38;5;241m5\u001b[39m,\u001b[38;5;241m6\u001b[39m,\u001b[38;5;241m1\u001b[39m,\u001b[38;5;241m2\u001b[39m,\u001b[38;5;241m2\u001b[39m,\u001b[38;5;241m8\u001b[39m}\n\u001b[1;32m----> 3\u001b[0m \u001b[43msets\u001b[49m\u001b[38;5;241;43m.\u001b[39;49m\u001b[43mappened\u001b[49m(\u001b[38;5;241m3\u001b[39m)\n\u001b[0;32m      4\u001b[0m \u001b[38;5;28mprint\u001b[39m(sets)\n",
      "\u001b[1;31mAttributeError\u001b[0m: 'set' object has no attribute 'appened'"
     ]
    }
   ],
   "source": [
    "#sets are immutable tha mean sets are unchangeable.\n",
    "sets={1,2,3,4,5,6,1,2,2,8}\n",
    "sets.appened(3)\n",
    "print(sets)"
   ]
  },
  {
   "cell_type": "code",
   "execution_count": 14,
   "metadata": {},
   "outputs": [
    {
     "name": "stdout",
     "output_type": "stream",
     "text": [
      "{'prem', 'krish', 'shyam'}\n"
     ]
    }
   ],
   "source": [
    "#they do not support duplicate values.\n",
    "sets={\"krish\",\"prem\",\"shyam\",\"prem\"}\n",
    "print(sets)"
   ]
  },
  {
   "cell_type": "code",
   "execution_count": 15,
   "metadata": {},
   "outputs": [
    {
     "ename": "TypeError",
     "evalue": "'set' object is not subscriptable",
     "output_type": "error",
     "traceback": [
      "\u001b[1;31m---------------------------------------------------------------------------\u001b[0m",
      "\u001b[1;31mTypeError\u001b[0m                                 Traceback (most recent call last)",
      "Cell \u001b[1;32mIn[15], line 3\u001b[0m\n\u001b[0;32m      1\u001b[0m \u001b[38;5;66;03m#set items can not be reffered by key or index.\u001b[39;00m\n\u001b[0;32m      2\u001b[0m sets\u001b[38;5;241m=\u001b[39m{\u001b[38;5;241m1\u001b[39m,\u001b[38;5;241m2\u001b[39m,\u001b[38;5;241m3\u001b[39m,\u001b[38;5;241m4\u001b[39m,\u001b[38;5;241m5\u001b[39m,\u001b[38;5;241m6\u001b[39m,\u001b[38;5;241m7\u001b[39m,\u001b[38;5;241m2\u001b[39m,\u001b[38;5;241m2\u001b[39m,\u001b[38;5;241m1\u001b[39m,\u001b[38;5;241m6\u001b[39m}\n\u001b[1;32m----> 3\u001b[0m a\u001b[38;5;241m=\u001b[39m\u001b[43msets\u001b[49m\u001b[43m[\u001b[49m\u001b[38;5;241;43m2\u001b[39;49m\u001b[43m]\u001b[49m\n\u001b[0;32m      4\u001b[0m \u001b[38;5;28mprint\u001b[39m(a)\n",
      "\u001b[1;31mTypeError\u001b[0m: 'set' object is not subscriptable"
     ]
    }
   ],
   "source": [
    "#set items can not be reffered by key or index.\n",
    "sets={1,2,3,4,5,6,7,2,2,1,6}\n",
    "a=sets[2]\n",
    "print(a)"
   ]
  },
  {
   "cell_type": "markdown",
   "metadata": {},
   "source": [
    "Q6>>Discuss the use cases of tuples and sets in Python programming."
   ]
  },
  {
   "cell_type": "code",
   "execution_count": 16,
   "metadata": {},
   "outputs": [
    {
     "name": "stdout",
     "output_type": "stream",
     "text": [
      "(1, 2, 4, 5, 'shyam', 'prem')\n"
     ]
    }
   ],
   "source": [
    "#use case of Tuple>>\n",
    "#Tuples are immutable.Hence,they are primarily used to store data that does not change frequently.Any operation can store data in a tuple when you do not want it to change\n",
    "tup=(1,2,4,5,\"shyam\",\"prem\")\n",
    "print(tup)"
   ]
  },
  {
   "cell_type": "code",
   "execution_count": 17,
   "metadata": {},
   "outputs": [
    {
     "data": {
      "text/plain": [
       "{1, 2, 3, 4, 5, 6, 7}"
      ]
     },
     "execution_count": 17,
     "metadata": {},
     "output_type": "execute_result"
    }
   ],
   "source": [
    "#use case of set>>\n",
    "#A common use of sets in python is computing standard math operations such as union,intersection,difference,and symmetric difference.\n",
    "set1={1,2,3,4,5}\n",
    "set2={3,4,5,6,7}\n",
    "set1.union(set2)"
   ]
  },
  {
   "cell_type": "markdown",
   "metadata": {},
   "source": [
    "Q7>>Describe how to add, modify, and delete items in a dictionary with examples."
   ]
  },
  {
   "cell_type": "code",
   "execution_count": 19,
   "metadata": {},
   "outputs": [
    {
     "name": "stdout",
     "output_type": "stream",
     "text": [
      "{'name': 'krish', 'age': 27, 'city': 'mathura', 'roll_no': 267}\n"
     ]
    }
   ],
   "source": [
    "#how to add\n",
    "dic={\"name\":\"krish\",\"age\":27,\"city\":\"mathura\"}\n",
    "dic[\"roll_no\"]=267\n",
    "print(dic)"
   ]
  },
  {
   "cell_type": "code",
   "execution_count": 22,
   "metadata": {},
   "outputs": [
    {
     "name": "stdout",
     "output_type": "stream",
     "text": [
      "{'name': 'krish', 'age': 27, 'city': 'mathura', 'roll_no': 267}\n"
     ]
    }
   ],
   "source": [
    "#how to modify.\n",
    "dic={\"name\":\"krish\",\"age\":27,\"city\":\"mathura\"}\n",
    "dic.update({\"roll_no\":267})\n",
    "print(dic)\n"
   ]
  },
  {
   "cell_type": "code",
   "execution_count": 25,
   "metadata": {},
   "outputs": [
    {
     "name": "stdout",
     "output_type": "stream",
     "text": [
      "{'age': 27, 'city': 'mathura'}\n"
     ]
    }
   ],
   "source": [
    "#how to delete\n",
    "dic={\"name\":\"krish\",\"age\":27,\"city\":\"mathura\"}\n",
    "dic.pop(\"name\")\n",
    "print(dic)"
   ]
  },
  {
   "cell_type": "markdown",
   "metadata": {},
   "source": [
    "Q8>>Discuss the importance of dictionary keys being immutable and provide examples."
   ]
  },
  {
   "cell_type": "code",
   "execution_count": 27,
   "metadata": {},
   "outputs": [
    {
     "ename": "TypeError",
     "evalue": "unhashable type: 'list'",
     "output_type": "error",
     "traceback": [
      "\u001b[1;31m---------------------------------------------------------------------------\u001b[0m",
      "\u001b[1;31mTypeError\u001b[0m                                 Traceback (most recent call last)",
      "Cell \u001b[1;32mIn[27], line 3\u001b[0m\n\u001b[0;32m      1\u001b[0m \u001b[38;5;66;03m#keys in dictionaries are immutable becouse dictionaries use keys to determine the storage.immutable keys ensure the integrity of the dictionary's internal structure.if keys were mutable ,thier values could cahange.\u001b[39;00m\n\u001b[0;32m      2\u001b[0m \u001b[38;5;66;03m#ex>>\u001b[39;00m\n\u001b[1;32m----> 3\u001b[0m d\u001b[38;5;241m=\u001b[39m{[\u001b[38;5;241m1\u001b[39m,\u001b[38;5;241m2\u001b[39m]:\u001b[38;5;241m17\u001b[39m}\n\u001b[0;32m      4\u001b[0m \u001b[38;5;28mprint\u001b[39m(d)\n",
      "\u001b[1;31mTypeError\u001b[0m: unhashable type: 'list'"
     ]
    }
   ],
   "source": [
    "#keys in dictionaries are immutable becouse dictionaries use keys to determine the storage.immutable keys ensure the integrity of the dictionary's internal structure.if keys were mutable ,thier values could cahange.\n",
    "#ex>>\n",
    "d={[1,2]:17}\n",
    "print(d)"
   ]
  },
  {
   "cell_type": "code",
   "execution_count": null,
   "metadata": {},
   "outputs": [],
   "source": []
  }
 ],
 "metadata": {
  "kernelspec": {
   "display_name": "Python 3",
   "language": "python",
   "name": "python3"
  },
  "language_info": {
   "codemirror_mode": {
    "name": "ipython",
    "version": 3
   },
   "file_extension": ".py",
   "mimetype": "text/x-python",
   "name": "python",
   "nbconvert_exporter": "python",
   "pygments_lexer": "ipython3",
   "version": "3.13.0"
  }
 },
 "nbformat": 4,
 "nbformat_minor": 2
}
